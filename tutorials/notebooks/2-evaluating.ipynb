{
 "cells": [
  {
   "cell_type": "markdown",
   "metadata": {},
   "source": [
    "# Evaluating Models with Scorebook\n",
    "\n",
    "This notebook demonstrates how to use Scorebook's `evaluate()` function to run inference and compute metrics in a single step.\n",
    "\n",
    "## When to use `evaluate()`\n",
    "\n",
    "- You want to run inference on a dataset and score the results\n",
    "- You're comparing different models on the same dataset\n",
    "- You want to track hyperparameters alongside results\n",
    "\n",
    "## Prerequisites\n",
    "\n",
    "This example uses a local HuggingFace model. For cloud models (OpenAI, Anthropic), see the examples directory."
   ]
  },
  {
   "cell_type": "markdown",
   "metadata": {},
   "source": [
    "## Setup\n",
    "\n",
    "Import necessary modules:"
   ]
  },
  {
   "cell_type": "code",
   "execution_count": null,
   "metadata": {},
   "outputs": [],
   "source": [
    "from pprint import pprint\n",
    "from typing import Any, List\n",
    "import transformers\n",
    "\n",
    "from scorebook import EvalDataset, evaluate"
   ]
  },
  {
   "cell_type": "markdown",
   "metadata": {},
   "source": [
    "## Initialize Your Model\n",
    "\n",
    "Set up a HuggingFace pipeline for inference:"
   ]
  },
  {
   "cell_type": "code",
   "execution_count": null,
   "metadata": {},
   "outputs": [],
   "source": [
    "model_name = \"microsoft/Phi-4-mini-instruct\"\n",
    "\n",
    "pipeline = transformers.pipeline(\n",
    "    \"text-generation\",\n",
    "    model=model_name,\n",
    "    model_kwargs={\"torch_dtype\": \"auto\"},\n",
    "    device_map=\"auto\",\n",
    ")\n",
    "\n",
    "print(f\"Model loaded: {model_name}\")"
   ]
  },
  {
   "cell_type": "markdown",
   "metadata": {},
   "source": [
    "## Define Your Inference Function\n",
    "\n",
    "Create a function that processes inputs and returns outputs:"
   ]
  },
  {
   "cell_type": "code",
   "execution_count": null,
   "metadata": {},
   "outputs": [],
   "source": [
    "def inference(inputs: List[Any], **hyperparameters: Any) -> List[Any]:\n",
    "    \"\"\"Process inputs through the model.\n",
    "    \n",
    "    Args:\n",
    "        inputs: List of input values from the dataset\n",
    "        hyperparameters: Model hyperparameters (e.g., temperature, system_message)\n",
    "        \n",
    "    Returns:\n",
    "        List of model outputs\n",
    "    \"\"\"\n",
    "    outputs = []\n",
    "    \n",
    "    for input_val in inputs:\n",
    "        # Build messages for the model\n",
    "        messages = [\n",
    "            {\n",
    "                \"role\": \"system\",\n",
    "                \"content\": hyperparameters.get(\"system_message\", \"You are a helpful assistant.\")\n",
    "            },\n",
    "            {\"role\": \"user\", \"content\": str(input_val)},\n",
    "        ]\n",
    "        \n",
    "        # Run inference\n",
    "        result = pipeline(\n",
    "            messages,\n",
    "            max_new_tokens=hyperparameters.get(\"max_new_tokens\", 100),\n",
    "        )\n",
    "        \n",
    "        # Extract the answer\n",
    "        output = str(result[0][\"generated_text\"][-1][\"content\"])\n",
    "        outputs.append(output)\n",
    "    \n",
    "    return outputs"
   ]
  },
  {
   "cell_type": "markdown",
   "metadata": {},
   "source": [
    "## Load Your Dataset\n",
    "\n",
    "Create an evaluation dataset from a JSON file:"
   ]
  },
  {
   "cell_type": "code",
   "execution_count": null,
   "metadata": {},
   "outputs": [],
   "source": [
    "# Create a sample dataset\n",
    "import json\n",
    "from pathlib import Path\n",
    "\n",
    "# Sample data\n",
    "sample_data = [\n",
    "    {\"question\": \"What is 2 + 2?\", \"answer\": \"4\"},\n",
    "    {\"question\": \"What is the capital of France?\", \"answer\": \"Paris\"},\n",
    "    {\"question\": \"Who wrote Romeo and Juliet?\", \"answer\": \"William Shakespeare\"},\n",
    "]\n",
    "\n",
    "# Save to temporary file\n",
    "temp_dataset = Path(\"temp_dataset.json\")\n",
    "with open(temp_dataset, \"w\") as f:\n",
    "    json.dump(sample_data, f)\n",
    "\n",
    "# Load as EvalDataset\n",
    "dataset = EvalDataset.from_json(\n",
    "    path=str(temp_dataset),\n",
    "    metrics=\"accuracy\",\n",
    "    input=\"question\",\n",
    "    label=\"answer\",\n",
    ")\n",
    "\n",
    "print(f\"Loaded dataset with {len(dataset.items)} items\")"
   ]
  },
  {
   "cell_type": "markdown",
   "metadata": {},
   "source": [
    "## Run Evaluation\n",
    "\n",
    "Use `evaluate()` to run inference and compute metrics:"
   ]
  },
  {
   "cell_type": "code",
   "execution_count": null,
   "metadata": {},
   "outputs": [],
   "source": [
    "results = evaluate(\n",
    "    inference,\n",
    "    dataset,\n",
    "    hyperparameters={\n",
    "        \"system_message\": \"Answer the question directly and concisely.\",\n",
    "        \"max_new_tokens\": 50,\n",
    "    },\n",
    "    return_aggregates=True,\n",
    "    return_items=True,\n",
    "    return_output=True,\n",
    "    upload_results=False,  # Set to True to upload to Trismik\n",
    ")\n",
    "\n",
    "pprint(results)"
   ]
  },
  {
   "cell_type": "markdown",
   "metadata": {},
   "source": [
    "## Analyze Results\n",
    "\n",
    "Examine the outputs and metrics:"
   ]
  },
  {
   "cell_type": "code",
   "execution_count": null,
   "metadata": {},
   "outputs": [],
   "source": [
    "# Overall accuracy\n",
    "print(f\"\\nOverall Accuracy: {results['aggregates']['accuracy']:.2%}\")\n",
    "\n",
    "# Per-item results\n",
    "print(\"\\nPer-Item Results:\")\n",
    "for i, item in enumerate(results['items'], 1):\n",
    "    print(f\"\\nQuestion {i}: {item['input']}\")\n",
    "    print(f\"  Model Output: {item['output']}\")\n",
    "    print(f\"  Expected: {item['label']}\")\n",
    "    print(f\"  Correct: {'✓' if item['accuracy'] == 1.0 else '✗'}\")"
   ]
  },
  {
   "cell_type": "markdown",
   "metadata": {},
   "source": [
    "## Hyperparameter Sweeps\n",
    "\n",
    "Evaluate with different hyperparameters to find optimal settings:"
   ]
  },
  {
   "cell_type": "code",
   "execution_count": null,
   "metadata": {},
   "outputs": [],
   "source": [
    "# Test different system messages\n",
    "system_messages = [\n",
    "    \"Answer briefly.\",\n",
    "    \"Answer the question directly and concisely.\",\n",
    "    \"Provide a detailed answer.\",\n",
    "]\n",
    "\n",
    "sweep_results = []\n",
    "\n",
    "for msg in system_messages:\n",
    "    result = evaluate(\n",
    "        inference,\n",
    "        dataset,\n",
    "        hyperparameters={\"system_message\": msg},\n",
    "        return_aggregates=True,\n",
    "        upload_results=False,\n",
    "    )\n",
    "    sweep_results.append({\n",
    "        \"system_message\": msg,\n",
    "        \"accuracy\": result['aggregates']['accuracy']\n",
    "    })\n",
    "\n",
    "print(\"\\nHyperparameter Sweep Results:\")\n",
    "for r in sweep_results:\n",
    "    print(f\"  {r['system_message'][:30]:30s} → {r['accuracy']:.2%}\")"
   ]
  },
  {
   "cell_type": "markdown",
   "metadata": {},
   "source": [
    "## Cleanup"
   ]
  },
  {
   "cell_type": "code",
   "execution_count": null,
   "metadata": {},
   "outputs": [],
   "source": [
    "# Remove temporary dataset file\n",
    "temp_dataset.unlink()\n",
    "print(\"Cleanup complete\")"
   ]
  },
  {
   "cell_type": "markdown",
   "metadata": {},
   "source": [
    "## Next Steps\n",
    "\n",
    "- Try the **Adaptive Evaluations** notebook for efficient testing with fewer questions\n",
    "- See the **Upload Results** notebook to track results in Trismik's dashboard\n",
    "- Explore batch processing for faster evaluation of large datasets"
   ]
  }
 ],
 "metadata": {
  "kernelspec": {
   "display_name": "Python 3",
   "language": "python",
   "name": "python3"
  },
  "language_info": {
   "codemirror_mode": {
    "name": "ipython",
    "version": 3
   },
   "file_extension": ".py",
   "mimetype": "text/x-python",
   "name": "python",
   "nbconvert_exporter": "python",
   "pygments_lexer": "ipython3",
   "version": "3.11.0"
  }
 },
 "nbformat": 4,
 "nbformat_minor": 4
}
